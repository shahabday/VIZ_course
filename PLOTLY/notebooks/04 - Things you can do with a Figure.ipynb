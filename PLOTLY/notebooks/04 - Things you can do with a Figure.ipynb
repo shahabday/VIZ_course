{
 "cells": [
  {
   "cell_type": "markdown",
   "metadata": {},
   "source": [
    "# Things you can do with a Figure object"
   ]
  },
  {
   "cell_type": "code",
   "execution_count": 1,
   "metadata": {
    "ExecuteTime": {
     "end_time": "2017-11-12T12:11:54.642737",
     "start_time": "2017-11-12T12:11:53.056468"
    },
    "slideshow": {
     "slide_type": "-"
    }
   },
   "outputs": [],
   "source": [
    "# Import the library\n",
    "import plotly as py"
   ]
  },
  {
   "cell_type": "code",
   "execution_count": 2,
   "metadata": {
    "ExecuteTime": {
     "end_time": "2017-11-12T12:12:07.576419",
     "start_time": "2017-11-12T12:12:07.573724"
    }
   },
   "outputs": [],
   "source": [
    "# Building blocks of Plotly plots\n",
    "import plotly.graph_objs as go"
   ]
  },
  {
   "cell_type": "code",
   "execution_count": 3,
   "metadata": {},
   "outputs": [],
   "source": [
    "# Constructing a figure\n",
    "import numpy as np\n",
    "x = np.linspace(0, 2*np.pi)\n",
    "\n",
    "# Traces\n",
    "trace0 = dict(\n",
    "    type='scatter', \n",
    "    x=x, \n",
    "    y=np.sin(x), \n",
    "    name='sin(x)'\n",
    ")\n",
    "trace1 = dict(\n",
    "    type='scatter', \n",
    "    x=x, \n",
    "    y=np.cos(x), \n",
    "    name='cos(x)'\n",
    ")\n",
    "\n",
    "# Layout\n",
    "layout = dict(\n",
    "    title='SIN and COS functions',\n",
    "    xaxis=dict(title='x'),\n",
    "    yaxis=dict(title='f(x)')\n",
    ")\n",
    "\n",
    "# Figure\n",
    "fig = go.Figure(data=[trace0, trace1], layout=layout) "
   ]
  },
  {
   "cell_type": "markdown",
   "metadata": {},
   "source": [
    "#### Introspect the fig object"
   ]
  },
  {
   "cell_type": "code",
   "execution_count": 4,
   "metadata": {},
   "outputs": [
    {
     "data": {
      "text/plain": [
       "{'data': [{'name': 'sin(x)',\n",
       "   'x': array([0.        , 0.12822827, 0.25645654, 0.38468481, 0.51291309,\n",
       "          0.64114136, 0.76936963, 0.8975979 , 1.02582617, 1.15405444,\n",
       "          1.28228272, 1.41051099, 1.53873926, 1.66696753, 1.7951958 ,\n",
       "          1.92342407, 2.05165235, 2.17988062, 2.30810889, 2.43633716,\n",
       "          2.56456543, 2.6927937 , 2.82102197, 2.94925025, 3.07747852,\n",
       "          3.20570679, 3.33393506, 3.46216333, 3.5903916 , 3.71861988,\n",
       "          3.84684815, 3.97507642, 4.10330469, 4.23153296, 4.35976123,\n",
       "          4.48798951, 4.61621778, 4.74444605, 4.87267432, 5.00090259,\n",
       "          5.12913086, 5.25735913, 5.38558741, 5.51381568, 5.64204395,\n",
       "          5.77027222, 5.89850049, 6.02672876, 6.15495704, 6.28318531]),\n",
       "   'y': array([ 0.00000000e+00,  1.27877162e-01,  2.53654584e-01,  3.75267005e-01,\n",
       "           4.90717552e-01,  5.98110530e-01,  6.95682551e-01,  7.81831482e-01,\n",
       "           8.55142763e-01,  9.14412623e-01,  9.58667853e-01,  9.87181783e-01,\n",
       "           9.99486216e-01,  9.95379113e-01,  9.74927912e-01,  9.38468422e-01,\n",
       "           8.86599306e-01,  8.20172255e-01,  7.40277997e-01,  6.48228395e-01,\n",
       "           5.45534901e-01,  4.33883739e-01,  3.15108218e-01,  1.91158629e-01,\n",
       "           6.40702200e-02, -6.40702200e-02, -1.91158629e-01, -3.15108218e-01,\n",
       "          -4.33883739e-01, -5.45534901e-01, -6.48228395e-01, -7.40277997e-01,\n",
       "          -8.20172255e-01, -8.86599306e-01, -9.38468422e-01, -9.74927912e-01,\n",
       "          -9.95379113e-01, -9.99486216e-01, -9.87181783e-01, -9.58667853e-01,\n",
       "          -9.14412623e-01, -8.55142763e-01, -7.81831482e-01, -6.95682551e-01,\n",
       "          -5.98110530e-01, -4.90717552e-01, -3.75267005e-01, -2.53654584e-01,\n",
       "          -1.27877162e-01, -2.44929360e-16]),\n",
       "   'type': 'scatter'},\n",
       "  {'name': 'cos(x)',\n",
       "   'x': array([0.        , 0.12822827, 0.25645654, 0.38468481, 0.51291309,\n",
       "          0.64114136, 0.76936963, 0.8975979 , 1.02582617, 1.15405444,\n",
       "          1.28228272, 1.41051099, 1.53873926, 1.66696753, 1.7951958 ,\n",
       "          1.92342407, 2.05165235, 2.17988062, 2.30810889, 2.43633716,\n",
       "          2.56456543, 2.6927937 , 2.82102197, 2.94925025, 3.07747852,\n",
       "          3.20570679, 3.33393506, 3.46216333, 3.5903916 , 3.71861988,\n",
       "          3.84684815, 3.97507642, 4.10330469, 4.23153296, 4.35976123,\n",
       "          4.48798951, 4.61621778, 4.74444605, 4.87267432, 5.00090259,\n",
       "          5.12913086, 5.25735913, 5.38558741, 5.51381568, 5.64204395,\n",
       "          5.77027222, 5.89850049, 6.02672876, 6.15495704, 6.28318531]),\n",
       "   'y': array([ 1.        ,  0.99179001,  0.96729486,  0.92691676,  0.8713187 ,\n",
       "           0.80141362,  0.71834935,  0.6234898 ,  0.51839257,  0.40478334,\n",
       "           0.28452759,  0.1595999 ,  0.03205158, -0.09602303, -0.22252093,\n",
       "          -0.34536505, -0.46253829, -0.57211666, -0.67230089, -0.76144596,\n",
       "          -0.8380881 , -0.90096887, -0.94905575, -0.98155916, -0.99794539,\n",
       "          -0.99794539, -0.98155916, -0.94905575, -0.90096887, -0.8380881 ,\n",
       "          -0.76144596, -0.67230089, -0.57211666, -0.46253829, -0.34536505,\n",
       "          -0.22252093, -0.09602303,  0.03205158,  0.1595999 ,  0.28452759,\n",
       "           0.40478334,  0.51839257,  0.6234898 ,  0.71834935,  0.80141362,\n",
       "           0.8713187 ,  0.92691676,  0.96729486,  0.99179001,  1.        ]),\n",
       "   'type': 'scatter'}],\n",
       " 'layout': {'title': {'text': 'SIN and COS functions'},\n",
       "  'xaxis': {'title': {'text': 'x'}},\n",
       "  'yaxis': {'title': {'text': 'f(x)'}},\n",
       "  'template': {'data': {'histogram2dcontour': [{'type': 'histogram2dcontour',\n",
       "      'colorbar': {'outlinewidth': 0, 'ticks': ''},\n",
       "      'colorscale': [[0.0, '#0d0887'],\n",
       "       [0.1111111111111111, '#46039f'],\n",
       "       [0.2222222222222222, '#7201a8'],\n",
       "       [0.3333333333333333, '#9c179e'],\n",
       "       [0.4444444444444444, '#bd3786'],\n",
       "       [0.5555555555555556, '#d8576b'],\n",
       "       [0.6666666666666666, '#ed7953'],\n",
       "       [0.7777777777777778, '#fb9f3a'],\n",
       "       [0.8888888888888888, '#fdca26'],\n",
       "       [1.0, '#f0f921']]}],\n",
       "    'choropleth': [{'type': 'choropleth',\n",
       "      'colorbar': {'outlinewidth': 0, 'ticks': ''}}],\n",
       "    'histogram2d': [{'type': 'histogram2d',\n",
       "      'colorbar': {'outlinewidth': 0, 'ticks': ''},\n",
       "      'colorscale': [[0.0, '#0d0887'],\n",
       "       [0.1111111111111111, '#46039f'],\n",
       "       [0.2222222222222222, '#7201a8'],\n",
       "       [0.3333333333333333, '#9c179e'],\n",
       "       [0.4444444444444444, '#bd3786'],\n",
       "       [0.5555555555555556, '#d8576b'],\n",
       "       [0.6666666666666666, '#ed7953'],\n",
       "       [0.7777777777777778, '#fb9f3a'],\n",
       "       [0.8888888888888888, '#fdca26'],\n",
       "       [1.0, '#f0f921']]}],\n",
       "    'heatmap': [{'type': 'heatmap',\n",
       "      'colorbar': {'outlinewidth': 0, 'ticks': ''},\n",
       "      'colorscale': [[0.0, '#0d0887'],\n",
       "       [0.1111111111111111, '#46039f'],\n",
       "       [0.2222222222222222, '#7201a8'],\n",
       "       [0.3333333333333333, '#9c179e'],\n",
       "       [0.4444444444444444, '#bd3786'],\n",
       "       [0.5555555555555556, '#d8576b'],\n",
       "       [0.6666666666666666, '#ed7953'],\n",
       "       [0.7777777777777778, '#fb9f3a'],\n",
       "       [0.8888888888888888, '#fdca26'],\n",
       "       [1.0, '#f0f921']]}],\n",
       "    'heatmapgl': [{'type': 'heatmapgl',\n",
       "      'colorbar': {'outlinewidth': 0, 'ticks': ''},\n",
       "      'colorscale': [[0.0, '#0d0887'],\n",
       "       [0.1111111111111111, '#46039f'],\n",
       "       [0.2222222222222222, '#7201a8'],\n",
       "       [0.3333333333333333, '#9c179e'],\n",
       "       [0.4444444444444444, '#bd3786'],\n",
       "       [0.5555555555555556, '#d8576b'],\n",
       "       [0.6666666666666666, '#ed7953'],\n",
       "       [0.7777777777777778, '#fb9f3a'],\n",
       "       [0.8888888888888888, '#fdca26'],\n",
       "       [1.0, '#f0f921']]}],\n",
       "    'contourcarpet': [{'type': 'contourcarpet',\n",
       "      'colorbar': {'outlinewidth': 0, 'ticks': ''}}],\n",
       "    'contour': [{'type': 'contour',\n",
       "      'colorbar': {'outlinewidth': 0, 'ticks': ''},\n",
       "      'colorscale': [[0.0, '#0d0887'],\n",
       "       [0.1111111111111111, '#46039f'],\n",
       "       [0.2222222222222222, '#7201a8'],\n",
       "       [0.3333333333333333, '#9c179e'],\n",
       "       [0.4444444444444444, '#bd3786'],\n",
       "       [0.5555555555555556, '#d8576b'],\n",
       "       [0.6666666666666666, '#ed7953'],\n",
       "       [0.7777777777777778, '#fb9f3a'],\n",
       "       [0.8888888888888888, '#fdca26'],\n",
       "       [1.0, '#f0f921']]}],\n",
       "    'surface': [{'type': 'surface',\n",
       "      'colorbar': {'outlinewidth': 0, 'ticks': ''},\n",
       "      'colorscale': [[0.0, '#0d0887'],\n",
       "       [0.1111111111111111, '#46039f'],\n",
       "       [0.2222222222222222, '#7201a8'],\n",
       "       [0.3333333333333333, '#9c179e'],\n",
       "       [0.4444444444444444, '#bd3786'],\n",
       "       [0.5555555555555556, '#d8576b'],\n",
       "       [0.6666666666666666, '#ed7953'],\n",
       "       [0.7777777777777778, '#fb9f3a'],\n",
       "       [0.8888888888888888, '#fdca26'],\n",
       "       [1.0, '#f0f921']]}],\n",
       "    'mesh3d': [{'type': 'mesh3d',\n",
       "      'colorbar': {'outlinewidth': 0, 'ticks': ''}}],\n",
       "    'scatter': [{'fillpattern': {'fillmode': 'overlay',\n",
       "       'size': 10,\n",
       "       'solidity': 0.2},\n",
       "      'type': 'scatter'}],\n",
       "    'parcoords': [{'type': 'parcoords',\n",
       "      'line': {'colorbar': {'outlinewidth': 0, 'ticks': ''}}}],\n",
       "    'scatterpolargl': [{'type': 'scatterpolargl',\n",
       "      'marker': {'colorbar': {'outlinewidth': 0, 'ticks': ''}}}],\n",
       "    'bar': [{'error_x': {'color': '#2a3f5f'},\n",
       "      'error_y': {'color': '#2a3f5f'},\n",
       "      'marker': {'line': {'color': '#E5ECF6', 'width': 0.5},\n",
       "       'pattern': {'fillmode': 'overlay', 'size': 10, 'solidity': 0.2}},\n",
       "      'type': 'bar'}],\n",
       "    'scattergeo': [{'type': 'scattergeo',\n",
       "      'marker': {'colorbar': {'outlinewidth': 0, 'ticks': ''}}}],\n",
       "    'scatterpolar': [{'type': 'scatterpolar',\n",
       "      'marker': {'colorbar': {'outlinewidth': 0, 'ticks': ''}}}],\n",
       "    'histogram': [{'marker': {'pattern': {'fillmode': 'overlay',\n",
       "        'size': 10,\n",
       "        'solidity': 0.2}},\n",
       "      'type': 'histogram'}],\n",
       "    'scattergl': [{'type': 'scattergl',\n",
       "      'marker': {'colorbar': {'outlinewidth': 0, 'ticks': ''}}}],\n",
       "    'scatter3d': [{'type': 'scatter3d',\n",
       "      'line': {'colorbar': {'outlinewidth': 0, 'ticks': ''}},\n",
       "      'marker': {'colorbar': {'outlinewidth': 0, 'ticks': ''}}}],\n",
       "    'scattermapbox': [{'type': 'scattermapbox',\n",
       "      'marker': {'colorbar': {'outlinewidth': 0, 'ticks': ''}}}],\n",
       "    'scatterternary': [{'type': 'scatterternary',\n",
       "      'marker': {'colorbar': {'outlinewidth': 0, 'ticks': ''}}}],\n",
       "    'scattercarpet': [{'type': 'scattercarpet',\n",
       "      'marker': {'colorbar': {'outlinewidth': 0, 'ticks': ''}}}],\n",
       "    'carpet': [{'aaxis': {'endlinecolor': '#2a3f5f',\n",
       "       'gridcolor': 'white',\n",
       "       'linecolor': 'white',\n",
       "       'minorgridcolor': 'white',\n",
       "       'startlinecolor': '#2a3f5f'},\n",
       "      'baxis': {'endlinecolor': '#2a3f5f',\n",
       "       'gridcolor': 'white',\n",
       "       'linecolor': 'white',\n",
       "       'minorgridcolor': 'white',\n",
       "       'startlinecolor': '#2a3f5f'},\n",
       "      'type': 'carpet'}],\n",
       "    'table': [{'cells': {'fill': {'color': '#EBF0F8'},\n",
       "       'line': {'color': 'white'}},\n",
       "      'header': {'fill': {'color': '#C8D4E3'}, 'line': {'color': 'white'}},\n",
       "      'type': 'table'}],\n",
       "    'barpolar': [{'marker': {'line': {'color': '#E5ECF6', 'width': 0.5},\n",
       "       'pattern': {'fillmode': 'overlay', 'size': 10, 'solidity': 0.2}},\n",
       "      'type': 'barpolar'}],\n",
       "    'pie': [{'automargin': True, 'type': 'pie'}]},\n",
       "   'layout': {'autotypenumbers': 'strict',\n",
       "    'colorway': ['#636efa',\n",
       "     '#EF553B',\n",
       "     '#00cc96',\n",
       "     '#ab63fa',\n",
       "     '#FFA15A',\n",
       "     '#19d3f3',\n",
       "     '#FF6692',\n",
       "     '#B6E880',\n",
       "     '#FF97FF',\n",
       "     '#FECB52'],\n",
       "    'font': {'color': '#2a3f5f'},\n",
       "    'hovermode': 'closest',\n",
       "    'hoverlabel': {'align': 'left'},\n",
       "    'paper_bgcolor': 'white',\n",
       "    'plot_bgcolor': '#E5ECF6',\n",
       "    'polar': {'bgcolor': '#E5ECF6',\n",
       "     'angularaxis': {'gridcolor': 'white', 'linecolor': 'white', 'ticks': ''},\n",
       "     'radialaxis': {'gridcolor': 'white', 'linecolor': 'white', 'ticks': ''}},\n",
       "    'ternary': {'bgcolor': '#E5ECF6',\n",
       "     'aaxis': {'gridcolor': 'white', 'linecolor': 'white', 'ticks': ''},\n",
       "     'baxis': {'gridcolor': 'white', 'linecolor': 'white', 'ticks': ''},\n",
       "     'caxis': {'gridcolor': 'white', 'linecolor': 'white', 'ticks': ''}},\n",
       "    'coloraxis': {'colorbar': {'outlinewidth': 0, 'ticks': ''}},\n",
       "    'colorscale': {'sequential': [[0.0, '#0d0887'],\n",
       "      [0.1111111111111111, '#46039f'],\n",
       "      [0.2222222222222222, '#7201a8'],\n",
       "      [0.3333333333333333, '#9c179e'],\n",
       "      [0.4444444444444444, '#bd3786'],\n",
       "      [0.5555555555555556, '#d8576b'],\n",
       "      [0.6666666666666666, '#ed7953'],\n",
       "      [0.7777777777777778, '#fb9f3a'],\n",
       "      [0.8888888888888888, '#fdca26'],\n",
       "      [1.0, '#f0f921']],\n",
       "     'sequentialminus': [[0.0, '#0d0887'],\n",
       "      [0.1111111111111111, '#46039f'],\n",
       "      [0.2222222222222222, '#7201a8'],\n",
       "      [0.3333333333333333, '#9c179e'],\n",
       "      [0.4444444444444444, '#bd3786'],\n",
       "      [0.5555555555555556, '#d8576b'],\n",
       "      [0.6666666666666666, '#ed7953'],\n",
       "      [0.7777777777777778, '#fb9f3a'],\n",
       "      [0.8888888888888888, '#fdca26'],\n",
       "      [1.0, '#f0f921']],\n",
       "     'diverging': [[0, '#8e0152'],\n",
       "      [0.1, '#c51b7d'],\n",
       "      [0.2, '#de77ae'],\n",
       "      [0.3, '#f1b6da'],\n",
       "      [0.4, '#fde0ef'],\n",
       "      [0.5, '#f7f7f7'],\n",
       "      [0.6, '#e6f5d0'],\n",
       "      [0.7, '#b8e186'],\n",
       "      [0.8, '#7fbc41'],\n",
       "      [0.9, '#4d9221'],\n",
       "      [1, '#276419']]},\n",
       "    'xaxis': {'gridcolor': 'white',\n",
       "     'linecolor': 'white',\n",
       "     'ticks': '',\n",
       "     'title': {'standoff': 15},\n",
       "     'zerolinecolor': 'white',\n",
       "     'automargin': True,\n",
       "     'zerolinewidth': 2},\n",
       "    'yaxis': {'gridcolor': 'white',\n",
       "     'linecolor': 'white',\n",
       "     'ticks': '',\n",
       "     'title': {'standoff': 15},\n",
       "     'zerolinecolor': 'white',\n",
       "     'automargin': True,\n",
       "     'zerolinewidth': 2},\n",
       "    'scene': {'xaxis': {'backgroundcolor': '#E5ECF6',\n",
       "      'gridcolor': 'white',\n",
       "      'linecolor': 'white',\n",
       "      'showbackground': True,\n",
       "      'ticks': '',\n",
       "      'zerolinecolor': 'white',\n",
       "      'gridwidth': 2},\n",
       "     'yaxis': {'backgroundcolor': '#E5ECF6',\n",
       "      'gridcolor': 'white',\n",
       "      'linecolor': 'white',\n",
       "      'showbackground': True,\n",
       "      'ticks': '',\n",
       "      'zerolinecolor': 'white',\n",
       "      'gridwidth': 2},\n",
       "     'zaxis': {'backgroundcolor': '#E5ECF6',\n",
       "      'gridcolor': 'white',\n",
       "      'linecolor': 'white',\n",
       "      'showbackground': True,\n",
       "      'ticks': '',\n",
       "      'zerolinecolor': 'white',\n",
       "      'gridwidth': 2}},\n",
       "    'shapedefaults': {'line': {'color': '#2a3f5f'}},\n",
       "    'annotationdefaults': {'arrowcolor': '#2a3f5f',\n",
       "     'arrowhead': 0,\n",
       "     'arrowwidth': 1},\n",
       "    'geo': {'bgcolor': 'white',\n",
       "     'landcolor': '#E5ECF6',\n",
       "     'subunitcolor': 'white',\n",
       "     'showland': True,\n",
       "     'showlakes': True,\n",
       "     'lakecolor': 'white'},\n",
       "    'title': {'x': 0.05},\n",
       "    'mapbox': {'style': 'light'}}}}}"
      ]
     },
     "execution_count": 4,
     "metadata": {},
     "output_type": "execute_result"
    }
   ],
   "source": [
    "fig.to_dict()"
   ]
  },
  {
   "cell_type": "code",
   "execution_count": 4,
   "metadata": {
    "scrolled": true
   },
   "outputs": [
    {
     "name": "stderr",
     "output_type": "stream",
     "text": [
      "/home/shahab/anaconda3/envs/DS_fund/lib/python3.12/site-packages/plotly/io/_kaleido.py:338: UserWarning:\n",
      "\n",
      "full_figure_for_development is not recommended or necessary for production use in most circumstances. \n",
      "To suppress this warning, set warn=False\n",
      "\n"
     ]
    },
    {
     "data": {
      "text/plain": [
       "{'data': [{'connectgaps': False,\n",
       "   'error_x': {'visible': False},\n",
       "   'error_y': {'visible': False},\n",
       "   'fill': 'none',\n",
       "   'hoverinfo': 'all',\n",
       "   'hoverlabel': {'align': 'left',\n",
       "    'font': {'family': 'Arial, sans-serif',\n",
       "     'lineposition': 'none',\n",
       "     'shadow': 'none',\n",
       "     'size': 13,\n",
       "     'style': 'normal',\n",
       "     'textcase': 'normal',\n",
       "     'variant': 'normal',\n",
       "     'weight': 'normal'},\n",
       "    'namelength': 15},\n",
       "   'hoveron': 'points',\n",
       "   'hovertemplate': '',\n",
       "   'hovertext': '',\n",
       "   'index': 0,\n",
       "   'legend': 'legend',\n",
       "   'legendgroup': '',\n",
       "   'legendgrouptitle': {'font': {'color': '#2a3f5f',\n",
       "     'family': '\"Open Sans\", verdana, arial, sans-serif',\n",
       "     'lineposition': 'none',\n",
       "     'shadow': 'none',\n",
       "     'size': 13,\n",
       "     'style': 'normal',\n",
       "     'textcase': 'normal',\n",
       "     'variant': 'normal',\n",
       "     'weight': 'normal'},\n",
       "    'text': ''},\n",
       "   'legendrank': 1000,\n",
       "   'line': {'backoff': 'auto',\n",
       "    'color': '#636efa',\n",
       "    'dash': 'solid',\n",
       "    'shape': 'linear',\n",
       "    'simplify': True,\n",
       "    'width': 2},\n",
       "   'mode': 'lines',\n",
       "   'name': 'sin(x)',\n",
       "   'opacity': 1,\n",
       "   'showlegend': True,\n",
       "   'stackgroup': '',\n",
       "   'text': '',\n",
       "   'type': 'scatter',\n",
       "   'uid': '78b239',\n",
       "   'visible': True,\n",
       "   'x': [0,\n",
       "    0.1282282715750936,\n",
       "    0.2564565431501872,\n",
       "    0.38468481472528077,\n",
       "    0.5129130863003744,\n",
       "    0.6411413578754679,\n",
       "    0.7693696294505615,\n",
       "    0.8975979010256552,\n",
       "    1.0258261726007487,\n",
       "    1.1540544441758422,\n",
       "    1.2822827157509358,\n",
       "    1.4105109873260295,\n",
       "    1.538739258901123,\n",
       "    1.6669675304762166,\n",
       "    1.7951958020513104,\n",
       "    1.9234240736264039,\n",
       "    2.0516523452014974,\n",
       "    2.179880616776591,\n",
       "    2.3081088883516845,\n",
       "    2.436337159926778,\n",
       "    2.5645654315018716,\n",
       "    2.6927937030769655,\n",
       "    2.821021974652059,\n",
       "    2.9492502462271526,\n",
       "    3.077478517802246,\n",
       "    3.2057067893773397,\n",
       "    3.333935060952433,\n",
       "    3.4621633325275267,\n",
       "    3.5903916041026207,\n",
       "    3.7186198756777142,\n",
       "    3.8468481472528078,\n",
       "    3.9750764188279013,\n",
       "    4.103304690402995,\n",
       "    4.231532961978089,\n",
       "    4.359761233553182,\n",
       "    4.487989505128276,\n",
       "    4.616217776703369,\n",
       "    4.744446048278463,\n",
       "    4.872674319853556,\n",
       "    5.00090259142865,\n",
       "    5.129130863003743,\n",
       "    5.257359134578837,\n",
       "    5.385587406153931,\n",
       "    5.513815677729024,\n",
       "    5.642043949304118,\n",
       "    5.770272220879211,\n",
       "    5.898500492454305,\n",
       "    6.026728764029398,\n",
       "    6.154957035604492,\n",
       "    6.283185307179586],\n",
       "   'xaxis': 'x',\n",
       "   'xcalendar': 'gregorian',\n",
       "   'xhoverformat': '',\n",
       "   'xperiod': 0,\n",
       "   'y': [0,\n",
       "    0.127877161684506,\n",
       "    0.25365458390950735,\n",
       "    0.3752670048793741,\n",
       "    0.49071755200393785,\n",
       "    0.5981105304912159,\n",
       "    0.6956825506034864,\n",
       "    0.7818314824680298,\n",
       "    0.8551427630053461,\n",
       "    0.9144126230158124,\n",
       "    0.9586678530366606,\n",
       "    0.9871817834144501,\n",
       "    0.9994862162006879,\n",
       "    0.9953791129491982,\n",
       "    0.9749279121818236,\n",
       "    0.9384684220497604,\n",
       "    0.8865993063730001,\n",
       "    0.8201722545969561,\n",
       "    0.7402779970753157,\n",
       "    0.6482283953077888,\n",
       "    0.545534901210549,\n",
       "    0.43388373911755823,\n",
       "    0.3151082180236209,\n",
       "    0.19115862870137254,\n",
       "    0.06407021998071323,\n",
       "    -0.06407021998071255,\n",
       "    -0.19115862870137187,\n",
       "    -0.3151082180236202,\n",
       "    -0.433883739117558,\n",
       "    -0.5455349012105485,\n",
       "    -0.6482283953077882,\n",
       "    -0.7402779970753153,\n",
       "    -0.8201722545969556,\n",
       "    -0.886599306373,\n",
       "    -0.9384684220497602,\n",
       "    -0.9749279121818236,\n",
       "    -0.9953791129491981,\n",
       "    -0.9994862162006879,\n",
       "    -0.9871817834144503,\n",
       "    -0.9586678530366608,\n",
       "    -0.9144126230158128,\n",
       "    -0.8551427630053464,\n",
       "    -0.7818314824680299,\n",
       "    -0.6956825506034869,\n",
       "    -0.5981105304912162,\n",
       "    -0.49071755200393863,\n",
       "    -0.3752670048793746,\n",
       "    -0.25365458390950835,\n",
       "    -0.12787716168450664,\n",
       "    -2.4492935982947064e-16],\n",
       "   'yaxis': 'y',\n",
       "   'ycalendar': 'gregorian',\n",
       "   'yhoverformat': '',\n",
       "   'yperiod': 0,\n",
       "   'zorder': 0},\n",
       "  {'connectgaps': False,\n",
       "   'error_x': {'visible': False},\n",
       "   'error_y': {'visible': False},\n",
       "   'fill': 'none',\n",
       "   'hoverinfo': 'all',\n",
       "   'hoverlabel': {'align': 'left',\n",
       "    'font': {'family': 'Arial, sans-serif',\n",
       "     'lineposition': 'none',\n",
       "     'shadow': 'none',\n",
       "     'size': 13,\n",
       "     'style': 'normal',\n",
       "     'textcase': 'normal',\n",
       "     'variant': 'normal',\n",
       "     'weight': 'normal'},\n",
       "    'namelength': 15},\n",
       "   'hoveron': 'points',\n",
       "   'hovertemplate': '',\n",
       "   'hovertext': '',\n",
       "   'index': 1,\n",
       "   'legend': 'legend',\n",
       "   'legendgroup': '',\n",
       "   'legendgrouptitle': {'font': {'color': '#2a3f5f',\n",
       "     'family': '\"Open Sans\", verdana, arial, sans-serif',\n",
       "     'lineposition': 'none',\n",
       "     'shadow': 'none',\n",
       "     'size': 13,\n",
       "     'style': 'normal',\n",
       "     'textcase': 'normal',\n",
       "     'variant': 'normal',\n",
       "     'weight': 'normal'},\n",
       "    'text': ''},\n",
       "   'legendrank': 1000,\n",
       "   'line': {'backoff': 'auto',\n",
       "    'color': '#EF553B',\n",
       "    'dash': 'solid',\n",
       "    'shape': 'linear',\n",
       "    'simplify': True,\n",
       "    'width': 2},\n",
       "   'mode': 'lines',\n",
       "   'name': 'cos(x)',\n",
       "   'opacity': 1,\n",
       "   'showlegend': True,\n",
       "   'stackgroup': '',\n",
       "   'text': '',\n",
       "   'type': 'scatter',\n",
       "   'uid': '272a1a',\n",
       "   'visible': True,\n",
       "   'x': [0,\n",
       "    0.1282282715750936,\n",
       "    0.2564565431501872,\n",
       "    0.38468481472528077,\n",
       "    0.5129130863003744,\n",
       "    0.6411413578754679,\n",
       "    0.7693696294505615,\n",
       "    0.8975979010256552,\n",
       "    1.0258261726007487,\n",
       "    1.1540544441758422,\n",
       "    1.2822827157509358,\n",
       "    1.4105109873260295,\n",
       "    1.538739258901123,\n",
       "    1.6669675304762166,\n",
       "    1.7951958020513104,\n",
       "    1.9234240736264039,\n",
       "    2.0516523452014974,\n",
       "    2.179880616776591,\n",
       "    2.3081088883516845,\n",
       "    2.436337159926778,\n",
       "    2.5645654315018716,\n",
       "    2.6927937030769655,\n",
       "    2.821021974652059,\n",
       "    2.9492502462271526,\n",
       "    3.077478517802246,\n",
       "    3.2057067893773397,\n",
       "    3.333935060952433,\n",
       "    3.4621633325275267,\n",
       "    3.5903916041026207,\n",
       "    3.7186198756777142,\n",
       "    3.8468481472528078,\n",
       "    3.9750764188279013,\n",
       "    4.103304690402995,\n",
       "    4.231532961978089,\n",
       "    4.359761233553182,\n",
       "    4.487989505128276,\n",
       "    4.616217776703369,\n",
       "    4.744446048278463,\n",
       "    4.872674319853556,\n",
       "    5.00090259142865,\n",
       "    5.129130863003743,\n",
       "    5.257359134578837,\n",
       "    5.385587406153931,\n",
       "    5.513815677729024,\n",
       "    5.642043949304118,\n",
       "    5.770272220879211,\n",
       "    5.898500492454305,\n",
       "    6.026728764029398,\n",
       "    6.154957035604492,\n",
       "    6.283185307179586],\n",
       "   'xaxis': 'x',\n",
       "   'xcalendar': 'gregorian',\n",
       "   'xhoverformat': '',\n",
       "   'xperiod': 0,\n",
       "   'y': [1,\n",
       "    0.9917900138232462,\n",
       "    0.9672948630390295,\n",
       "    0.9269167573460217,\n",
       "    0.8713187041233894,\n",
       "    0.8014136218679567,\n",
       "    0.7183493500977276,\n",
       "    0.6234898018587336,\n",
       "    0.5183925683105252,\n",
       "    0.404783343122394,\n",
       "    0.28452758663103267,\n",
       "    0.15959989503337932,\n",
       "    0.03205157757165533,\n",
       "    -0.09602302590768154,\n",
       "    -0.22252093395631434,\n",
       "    -0.3453650544213075,\n",
       "    -0.4625382902408351,\n",
       "    -0.5721166601221694,\n",
       "    -0.6723008902613166,\n",
       "    -0.7614459583691342,\n",
       "    -0.8380881048918404,\n",
       "    -0.900968867902419,\n",
       "    -0.9490557470106686,\n",
       "    -0.9815591569910653,\n",
       "    -0.9979453927503363,\n",
       "    -0.9979453927503363,\n",
       "    -0.9815591569910654,\n",
       "    -0.9490557470106689,\n",
       "    -0.9009688679024191,\n",
       "    -0.8380881048918408,\n",
       "    -0.7614459583691346,\n",
       "    -0.672300890261317,\n",
       "    -0.57211666012217,\n",
       "    -0.4625382902408353,\n",
       "    -0.34536505442130816,\n",
       "    -0.2225209339563146,\n",
       "    -0.09602302590768244,\n",
       "    0.03205157757165486,\n",
       "    0.1595998950333784,\n",
       "    0.284527586631032,\n",
       "    0.40478334312239295,\n",
       "    0.5183925683105245,\n",
       "    0.6234898018587334,\n",
       "    0.718349350097727,\n",
       "    0.8014136218679565,\n",
       "    0.871318704123389,\n",
       "    0.9269167573460216,\n",
       "    0.9672948630390291,\n",
       "    0.991790013823246,\n",
       "    1],\n",
       "   'yaxis': 'y',\n",
       "   'ycalendar': 'gregorian',\n",
       "   'yhoverformat': '',\n",
       "   'yperiod': 0,\n",
       "   'zorder': 0}],\n",
       " 'layout': {'activeselection': {'fillcolor': 'rgba(0,0,0,0)', 'opacity': 0.5},\n",
       "  'activeshape': {'fillcolor': 'rgb(255,0,255)', 'opacity': 0.5},\n",
       "  'annotations': [],\n",
       "  'autosize': False,\n",
       "  'autotypenumbers': 'strict',\n",
       "  'calendar': 'gregorian',\n",
       "  'clickmode': 'event',\n",
       "  'colorscale': {'diverging': [[0, '#8e0152'],\n",
       "    [0.1, '#c51b7d'],\n",
       "    [0.2, '#de77ae'],\n",
       "    [0.3, '#f1b6da'],\n",
       "    [0.4, '#fde0ef'],\n",
       "    [0.5, '#f7f7f7'],\n",
       "    [0.6, '#e6f5d0'],\n",
       "    [0.7, '#b8e186'],\n",
       "    [0.8, '#7fbc41'],\n",
       "    [0.9, '#4d9221'],\n",
       "    [1, '#276419']],\n",
       "   'sequential': [[0, '#0d0887'],\n",
       "    [0.1111111111111111, '#46039f'],\n",
       "    [0.2222222222222222, '#7201a8'],\n",
       "    [0.3333333333333333, '#9c179e'],\n",
       "    [0.4444444444444444, '#bd3786'],\n",
       "    [0.5555555555555556, '#d8576b'],\n",
       "    [0.6666666666666666, '#ed7953'],\n",
       "    [0.7777777777777778, '#fb9f3a'],\n",
       "    [0.8888888888888888, '#fdca26'],\n",
       "    [1, '#f0f921']],\n",
       "   'sequentialminus': [[0, '#0d0887'],\n",
       "    [0.1111111111111111, '#46039f'],\n",
       "    [0.2222222222222222, '#7201a8'],\n",
       "    [0.3333333333333333, '#9c179e'],\n",
       "    [0.4444444444444444, '#bd3786'],\n",
       "    [0.5555555555555556, '#d8576b'],\n",
       "    [0.6666666666666666, '#ed7953'],\n",
       "    [0.7777777777777778, '#fb9f3a'],\n",
       "    [0.8888888888888888, '#fdca26'],\n",
       "    [1, '#f0f921']]},\n",
       "  'colorway': ['#636efa',\n",
       "   '#EF553B',\n",
       "   '#00cc96',\n",
       "   '#ab63fa',\n",
       "   '#FFA15A',\n",
       "   '#19d3f3',\n",
       "   '#FF6692',\n",
       "   '#B6E880',\n",
       "   '#FF97FF',\n",
       "   '#FECB52'],\n",
       "  'dragmode': 'zoom',\n",
       "  'font': {'color': '#2a3f5f',\n",
       "   'family': '\"Open Sans\", verdana, arial, sans-serif',\n",
       "   'lineposition': 'none',\n",
       "   'shadow': 'none',\n",
       "   'size': 12,\n",
       "   'style': 'normal',\n",
       "   'textcase': 'normal',\n",
       "   'variant': 'normal',\n",
       "   'weight': 'normal'},\n",
       "  'height': 500,\n",
       "  'hidesources': False,\n",
       "  'hoverdistance': 20,\n",
       "  'hoverlabel': {'align': 'left',\n",
       "   'font': {'family': 'Arial, sans-serif',\n",
       "    'lineposition': 'none',\n",
       "    'shadow': 'none',\n",
       "    'size': 13,\n",
       "    'style': 'normal',\n",
       "    'textcase': 'normal',\n",
       "    'variant': 'normal',\n",
       "    'weight': 'normal'},\n",
       "   'grouptitlefont': {'family': 'Arial, sans-serif',\n",
       "    'lineposition': 'none',\n",
       "    'shadow': 'none',\n",
       "    'size': 13,\n",
       "    'style': 'normal',\n",
       "    'textcase': 'normal',\n",
       "    'variant': 'normal',\n",
       "    'weight': 'normal'},\n",
       "   'namelength': 15},\n",
       "  'hovermode': 'closest',\n",
       "  'hoversubplots': 'overlaying',\n",
       "  'images': [],\n",
       "  'legend': {'bgcolor': 'white',\n",
       "   'bordercolor': '#444',\n",
       "   'borderwidth': 0,\n",
       "   'entrywidthmode': 'pixels',\n",
       "   'font': {'color': '#2a3f5f',\n",
       "    'family': '\"Open Sans\", verdana, arial, sans-serif',\n",
       "    'lineposition': 'none',\n",
       "    'shadow': 'none',\n",
       "    'size': 12,\n",
       "    'style': 'normal',\n",
       "    'textcase': 'normal',\n",
       "    'variant': 'normal',\n",
       "    'weight': 'normal'},\n",
       "   'groupclick': 'togglegroup',\n",
       "   'grouptitlefont': {'color': '#2a3f5f',\n",
       "    'family': '\"Open Sans\", verdana, arial, sans-serif',\n",
       "    'lineposition': 'none',\n",
       "    'shadow': 'none',\n",
       "    'size': 13,\n",
       "    'style': 'normal',\n",
       "    'textcase': 'normal',\n",
       "    'variant': 'normal',\n",
       "    'weight': 'normal'},\n",
       "   'indentation': 0,\n",
       "   'itemclick': 'toggle',\n",
       "   'itemdoubleclick': 'toggleothers',\n",
       "   'itemsizing': 'trace',\n",
       "   'itemwidth': 30,\n",
       "   'orientation': 'v',\n",
       "   'title': {'text': ''},\n",
       "   'traceorder': 'normal',\n",
       "   'valign': 'middle',\n",
       "   'visible': True,\n",
       "   'x': 1.02,\n",
       "   'xanchor': 'left',\n",
       "   'xref': 'paper',\n",
       "   'y': 1,\n",
       "   'yanchor': 'auto',\n",
       "   'yref': 'paper'},\n",
       "  'margin': {'autoexpand': True,\n",
       "   'b': 80,\n",
       "   'l': 80,\n",
       "   'pad': 0,\n",
       "   'r': 80,\n",
       "   't': 100},\n",
       "  'minreducedheight': 64,\n",
       "  'minreducedwidth': 64,\n",
       "  'modebar': {'activecolor': 'rgba(68, 68, 68, 0.7)',\n",
       "   'add': '',\n",
       "   'bgcolor': 'rgba(255, 255, 255, 0.5)',\n",
       "   'color': 'rgba(68, 68, 68, 0.3)',\n",
       "   'orientation': 'h',\n",
       "   'remove': ''},\n",
       "  'newselection': {'line': {'dash': 'dot', 'width': 1}, 'mode': 'immediate'},\n",
       "  'newshape': {'drawdirection': 'diagonal',\n",
       "   'fillcolor': 'rgba(0,0,0,0)',\n",
       "   'fillrule': 'evenodd',\n",
       "   'label': {'text': '', 'texttemplate': ''},\n",
       "   'layer': 'above',\n",
       "   'legend': 'legend',\n",
       "   'legendgroup': '',\n",
       "   'legendgrouptitle': {'font': {'lineposition': 'none',\n",
       "     'shadow': 'none',\n",
       "     'style': 'normal',\n",
       "     'textcase': 'normal',\n",
       "     'variant': 'normal',\n",
       "     'weight': 'normal'},\n",
       "    'text': ''},\n",
       "   'legendrank': 1000,\n",
       "   'line': {'color': '#444', 'dash': 'solid', 'width': 4},\n",
       "   'opacity': 1,\n",
       "   'showlegend': False,\n",
       "   'visible': True},\n",
       "  'paper_bgcolor': 'white',\n",
       "  'plot_bgcolor': '#E5ECF6',\n",
       "  'scattermode': 'overlay',\n",
       "  'selections': [],\n",
       "  'separators': '.,',\n",
       "  'shapes': [],\n",
       "  'showlegend': True,\n",
       "  'sliders': [],\n",
       "  'spikedistance': -1,\n",
       "  'template': {'data': {'bar': [{'error_x': {'color': '#2a3f5f'},\n",
       "      'error_y': {'color': '#2a3f5f'},\n",
       "      'marker': {'line': {'color': '#E5ECF6', 'width': 0.5},\n",
       "       'pattern': {'fillmode': 'overlay', 'size': 10, 'solidity': 0.2}},\n",
       "      'type': 'bar'}],\n",
       "    'barpolar': [{'marker': {'line': {'color': '#E5ECF6', 'width': 0.5},\n",
       "       'pattern': {'fillmode': 'overlay', 'size': 10, 'solidity': 0.2}},\n",
       "      'type': 'barpolar'}],\n",
       "    'carpet': [{'aaxis': {'endlinecolor': '#2a3f5f',\n",
       "       'gridcolor': 'white',\n",
       "       'linecolor': 'white',\n",
       "       'minorgridcolor': 'white',\n",
       "       'startlinecolor': '#2a3f5f'},\n",
       "      'baxis': {'endlinecolor': '#2a3f5f',\n",
       "       'gridcolor': 'white',\n",
       "       'linecolor': 'white',\n",
       "       'minorgridcolor': 'white',\n",
       "       'startlinecolor': '#2a3f5f'},\n",
       "      'type': 'carpet'}],\n",
       "    'choropleth': [{'colorbar': {'outlinewidth': 0, 'ticks': ''},\n",
       "      'type': 'choropleth'}],\n",
       "    'contour': [{'colorbar': {'outlinewidth': 0, 'ticks': ''},\n",
       "      'colorscale': [[0, '#0d0887'],\n",
       "       [0.1111111111111111, '#46039f'],\n",
       "       [0.2222222222222222, '#7201a8'],\n",
       "       [0.3333333333333333, '#9c179e'],\n",
       "       [0.4444444444444444, '#bd3786'],\n",
       "       [0.5555555555555556, '#d8576b'],\n",
       "       [0.6666666666666666, '#ed7953'],\n",
       "       [0.7777777777777778, '#fb9f3a'],\n",
       "       [0.8888888888888888, '#fdca26'],\n",
       "       [1, '#f0f921']],\n",
       "      'type': 'contour'}],\n",
       "    'contourcarpet': [{'colorbar': {'outlinewidth': 0, 'ticks': ''},\n",
       "      'type': 'contourcarpet'}],\n",
       "    'heatmap': [{'colorbar': {'outlinewidth': 0, 'ticks': ''},\n",
       "      'colorscale': [[0, '#0d0887'],\n",
       "       [0.1111111111111111, '#46039f'],\n",
       "       [0.2222222222222222, '#7201a8'],\n",
       "       [0.3333333333333333, '#9c179e'],\n",
       "       [0.4444444444444444, '#bd3786'],\n",
       "       [0.5555555555555556, '#d8576b'],\n",
       "       [0.6666666666666666, '#ed7953'],\n",
       "       [0.7777777777777778, '#fb9f3a'],\n",
       "       [0.8888888888888888, '#fdca26'],\n",
       "       [1, '#f0f921']],\n",
       "      'type': 'heatmap'}],\n",
       "    'heatmapgl': [{'colorbar': {'outlinewidth': 0, 'ticks': ''},\n",
       "      'colorscale': [[0, '#0d0887'],\n",
       "       [0.1111111111111111, '#46039f'],\n",
       "       [0.2222222222222222, '#7201a8'],\n",
       "       [0.3333333333333333, '#9c179e'],\n",
       "       [0.4444444444444444, '#bd3786'],\n",
       "       [0.5555555555555556, '#d8576b'],\n",
       "       [0.6666666666666666, '#ed7953'],\n",
       "       [0.7777777777777778, '#fb9f3a'],\n",
       "       [0.8888888888888888, '#fdca26'],\n",
       "       [1, '#f0f921']],\n",
       "      'type': 'heatmapgl'}],\n",
       "    'histogram': [{'marker': {'pattern': {'fillmode': 'overlay',\n",
       "        'size': 10,\n",
       "        'solidity': 0.2}},\n",
       "      'type': 'histogram'}],\n",
       "    'histogram2d': [{'colorbar': {'outlinewidth': 0, 'ticks': ''},\n",
       "      'colorscale': [[0, '#0d0887'],\n",
       "       [0.1111111111111111, '#46039f'],\n",
       "       [0.2222222222222222, '#7201a8'],\n",
       "       [0.3333333333333333, '#9c179e'],\n",
       "       [0.4444444444444444, '#bd3786'],\n",
       "       [0.5555555555555556, '#d8576b'],\n",
       "       [0.6666666666666666, '#ed7953'],\n",
       "       [0.7777777777777778, '#fb9f3a'],\n",
       "       [0.8888888888888888, '#fdca26'],\n",
       "       [1, '#f0f921']],\n",
       "      'type': 'histogram2d'}],\n",
       "    'histogram2dcontour': [{'colorbar': {'outlinewidth': 0, 'ticks': ''},\n",
       "      'colorscale': [[0, '#0d0887'],\n",
       "       [0.1111111111111111, '#46039f'],\n",
       "       [0.2222222222222222, '#7201a8'],\n",
       "       [0.3333333333333333, '#9c179e'],\n",
       "       [0.4444444444444444, '#bd3786'],\n",
       "       [0.5555555555555556, '#d8576b'],\n",
       "       [0.6666666666666666, '#ed7953'],\n",
       "       [0.7777777777777778, '#fb9f3a'],\n",
       "       [0.8888888888888888, '#fdca26'],\n",
       "       [1, '#f0f921']],\n",
       "      'type': 'histogram2dcontour'}],\n",
       "    'mesh3d': [{'colorbar': {'outlinewidth': 0, 'ticks': ''},\n",
       "      'type': 'mesh3d'}],\n",
       "    'parcoords': [{'line': {'colorbar': {'outlinewidth': 0, 'ticks': ''}},\n",
       "      'type': 'parcoords'}],\n",
       "    'pie': [{'automargin': True, 'type': 'pie'}],\n",
       "    'scatter': [{'fillpattern': {'fillmode': 'overlay',\n",
       "       'size': 10,\n",
       "       'solidity': 0.2},\n",
       "      'type': 'scatter'}],\n",
       "    'scatter3d': [{'line': {'colorbar': {'outlinewidth': 0, 'ticks': ''}},\n",
       "      'marker': {'colorbar': {'outlinewidth': 0, 'ticks': ''}},\n",
       "      'type': 'scatter3d'}],\n",
       "    'scattercarpet': [{'marker': {'colorbar': {'outlinewidth': 0,\n",
       "        'ticks': ''}},\n",
       "      'type': 'scattercarpet'}],\n",
       "    'scattergeo': [{'marker': {'colorbar': {'outlinewidth': 0, 'ticks': ''}},\n",
       "      'type': 'scattergeo'}],\n",
       "    'scattergl': [{'marker': {'colorbar': {'outlinewidth': 0, 'ticks': ''}},\n",
       "      'type': 'scattergl'}],\n",
       "    'scattermapbox': [{'marker': {'colorbar': {'outlinewidth': 0,\n",
       "        'ticks': ''}},\n",
       "      'type': 'scattermapbox'}],\n",
       "    'scatterpolar': [{'marker': {'colorbar': {'outlinewidth': 0, 'ticks': ''}},\n",
       "      'type': 'scatterpolar'}],\n",
       "    'scatterpolargl': [{'marker': {'colorbar': {'outlinewidth': 0,\n",
       "        'ticks': ''}},\n",
       "      'type': 'scatterpolargl'}],\n",
       "    'scatterternary': [{'marker': {'colorbar': {'outlinewidth': 0,\n",
       "        'ticks': ''}},\n",
       "      'type': 'scatterternary'}],\n",
       "    'surface': [{'colorbar': {'outlinewidth': 0, 'ticks': ''},\n",
       "      'colorscale': [[0, '#0d0887'],\n",
       "       [0.1111111111111111, '#46039f'],\n",
       "       [0.2222222222222222, '#7201a8'],\n",
       "       [0.3333333333333333, '#9c179e'],\n",
       "       [0.4444444444444444, '#bd3786'],\n",
       "       [0.5555555555555556, '#d8576b'],\n",
       "       [0.6666666666666666, '#ed7953'],\n",
       "       [0.7777777777777778, '#fb9f3a'],\n",
       "       [0.8888888888888888, '#fdca26'],\n",
       "       [1, '#f0f921']],\n",
       "      'type': 'surface'}],\n",
       "    'table': [{'cells': {'fill': {'color': '#EBF0F8'},\n",
       "       'line': {'color': 'white'}},\n",
       "      'header': {'fill': {'color': '#C8D4E3'}, 'line': {'color': 'white'}},\n",
       "      'type': 'table'}]},\n",
       "   'layout': {'annotationdefaults': {'arrowcolor': '#2a3f5f',\n",
       "     'arrowhead': 0,\n",
       "     'arrowwidth': 1},\n",
       "    'autotypenumbers': 'strict',\n",
       "    'coloraxis': {'colorbar': {'outlinewidth': 0, 'ticks': ''}},\n",
       "    'colorscale': {'diverging': [[0, '#8e0152'],\n",
       "      [0.1, '#c51b7d'],\n",
       "      [0.2, '#de77ae'],\n",
       "      [0.3, '#f1b6da'],\n",
       "      [0.4, '#fde0ef'],\n",
       "      [0.5, '#f7f7f7'],\n",
       "      [0.6, '#e6f5d0'],\n",
       "      [0.7, '#b8e186'],\n",
       "      [0.8, '#7fbc41'],\n",
       "      [0.9, '#4d9221'],\n",
       "      [1, '#276419']],\n",
       "     'sequential': [[0, '#0d0887'],\n",
       "      [0.1111111111111111, '#46039f'],\n",
       "      [0.2222222222222222, '#7201a8'],\n",
       "      [0.3333333333333333, '#9c179e'],\n",
       "      [0.4444444444444444, '#bd3786'],\n",
       "      [0.5555555555555556, '#d8576b'],\n",
       "      [0.6666666666666666, '#ed7953'],\n",
       "      [0.7777777777777778, '#fb9f3a'],\n",
       "      [0.8888888888888888, '#fdca26'],\n",
       "      [1, '#f0f921']],\n",
       "     'sequentialminus': [[0, '#0d0887'],\n",
       "      [0.1111111111111111, '#46039f'],\n",
       "      [0.2222222222222222, '#7201a8'],\n",
       "      [0.3333333333333333, '#9c179e'],\n",
       "      [0.4444444444444444, '#bd3786'],\n",
       "      [0.5555555555555556, '#d8576b'],\n",
       "      [0.6666666666666666, '#ed7953'],\n",
       "      [0.7777777777777778, '#fb9f3a'],\n",
       "      [0.8888888888888888, '#fdca26'],\n",
       "      [1, '#f0f921']]},\n",
       "    'colorway': ['#636efa',\n",
       "     '#EF553B',\n",
       "     '#00cc96',\n",
       "     '#ab63fa',\n",
       "     '#FFA15A',\n",
       "     '#19d3f3',\n",
       "     '#FF6692',\n",
       "     '#B6E880',\n",
       "     '#FF97FF',\n",
       "     '#FECB52'],\n",
       "    'font': {'color': '#2a3f5f'},\n",
       "    'geo': {'bgcolor': 'white',\n",
       "     'lakecolor': 'white',\n",
       "     'landcolor': '#E5ECF6',\n",
       "     'showlakes': True,\n",
       "     'showland': True,\n",
       "     'subunitcolor': 'white'},\n",
       "    'hoverlabel': {'align': 'left'},\n",
       "    'hovermode': 'closest',\n",
       "    'mapbox': {'style': 'light'},\n",
       "    'paper_bgcolor': 'white',\n",
       "    'plot_bgcolor': '#E5ECF6',\n",
       "    'polar': {'angularaxis': {'gridcolor': 'white',\n",
       "      'linecolor': 'white',\n",
       "      'ticks': ''},\n",
       "     'bgcolor': '#E5ECF6',\n",
       "     'radialaxis': {'gridcolor': 'white', 'linecolor': 'white', 'ticks': ''}},\n",
       "    'scene': {'xaxis': {'backgroundcolor': '#E5ECF6',\n",
       "      'gridcolor': 'white',\n",
       "      'gridwidth': 2,\n",
       "      'linecolor': 'white',\n",
       "      'showbackground': True,\n",
       "      'ticks': '',\n",
       "      'zerolinecolor': 'white'},\n",
       "     'yaxis': {'backgroundcolor': '#E5ECF6',\n",
       "      'gridcolor': 'white',\n",
       "      'gridwidth': 2,\n",
       "      'linecolor': 'white',\n",
       "      'showbackground': True,\n",
       "      'ticks': '',\n",
       "      'zerolinecolor': 'white'},\n",
       "     'zaxis': {'backgroundcolor': '#E5ECF6',\n",
       "      'gridcolor': 'white',\n",
       "      'gridwidth': 2,\n",
       "      'linecolor': 'white',\n",
       "      'showbackground': True,\n",
       "      'ticks': '',\n",
       "      'zerolinecolor': 'white'}},\n",
       "    'shapedefaults': {'line': {'color': '#2a3f5f'}},\n",
       "    'ternary': {'aaxis': {'gridcolor': 'white',\n",
       "      'linecolor': 'white',\n",
       "      'ticks': ''},\n",
       "     'baxis': {'gridcolor': 'white', 'linecolor': 'white', 'ticks': ''},\n",
       "     'bgcolor': '#E5ECF6',\n",
       "     'caxis': {'gridcolor': 'white', 'linecolor': 'white', 'ticks': ''}},\n",
       "    'title': {'x': 0.05},\n",
       "    'xaxis': {'automargin': True,\n",
       "     'gridcolor': 'white',\n",
       "     'linecolor': 'white',\n",
       "     'ticks': '',\n",
       "     'title': {'standoff': 15},\n",
       "     'zerolinecolor': 'white',\n",
       "     'zerolinewidth': 2},\n",
       "    'yaxis': {'automargin': True,\n",
       "     'gridcolor': 'white',\n",
       "     'linecolor': 'white',\n",
       "     'ticks': '',\n",
       "     'title': {'standoff': 15},\n",
       "     'zerolinecolor': 'white',\n",
       "     'zerolinewidth': 2}}},\n",
       "  'title': {'automargin': False,\n",
       "   'font': {'color': '#2a3f5f',\n",
       "    'family': '\"Open Sans\", verdana, arial, sans-serif',\n",
       "    'lineposition': 'none',\n",
       "    'shadow': 'none',\n",
       "    'size': 17,\n",
       "    'style': 'normal',\n",
       "    'textcase': 'normal',\n",
       "    'variant': 'normal',\n",
       "    'weight': 'normal'},\n",
       "   'pad': {'b': 0, 'l': 0, 'r': 0, 't': 0},\n",
       "   'subtitle': {'font': {'color': '#2a3f5f',\n",
       "     'family': '\"Open Sans\", verdana, arial, sans-serif',\n",
       "     'lineposition': 'none',\n",
       "     'shadow': 'none',\n",
       "     'size': 12,\n",
       "     'style': 'normal',\n",
       "     'textcase': 'normal',\n",
       "     'variant': 'normal',\n",
       "     'weight': 'normal'},\n",
       "    'text': 'Click to enter Plot subtitle'},\n",
       "   'text': 'SIN and COS functions',\n",
       "   'x': 0.05,\n",
       "   'xanchor': 'auto',\n",
       "   'xref': 'container',\n",
       "   'y': 'auto',\n",
       "   'yanchor': 'auto',\n",
       "   'yref': 'container'},\n",
       "  'uniformtext': {'mode': False},\n",
       "  'updatemenus': [],\n",
       "  'width': 700,\n",
       "  'xaxis': {'anchor': 'y',\n",
       "   'automargin': True,\n",
       "   'autorange': True,\n",
       "   'autotickangles': [0, 30, 90],\n",
       "   'autotypenumbers': 'strict',\n",
       "   'color': '#444',\n",
       "   'constrain': 'range',\n",
       "   'constraintoward': 'center',\n",
       "   'domain': [0, 1],\n",
       "   'dtick': 1,\n",
       "   'exponentformat': 'B',\n",
       "   'fixedrange': False,\n",
       "   'gridcolor': 'white',\n",
       "   'griddash': 'solid',\n",
       "   'gridwidth': 1,\n",
       "   'hoverformat': '',\n",
       "   'layer': 'above traces',\n",
       "   'minexponent': 3,\n",
       "   'nticks': 0,\n",
       "   'range': [0, 6.283185307179586],\n",
       "   'rangemode': 'normal',\n",
       "   'separatethousands': False,\n",
       "   'showexponent': 'all',\n",
       "   'showgrid': True,\n",
       "   'showline': False,\n",
       "   'showspikes': False,\n",
       "   'showticklabels': True,\n",
       "   'side': 'bottom',\n",
       "   'tick0': 0,\n",
       "   'tickangle': 'auto',\n",
       "   'tickfont': {'color': '#2a3f5f',\n",
       "    'family': '\"Open Sans\", verdana, arial, sans-serif',\n",
       "    'lineposition': 'none',\n",
       "    'shadow': 'none',\n",
       "    'size': 12,\n",
       "    'style': 'normal',\n",
       "    'textcase': 'normal',\n",
       "    'variant': 'normal',\n",
       "    'weight': 'normal'},\n",
       "   'tickformat': '',\n",
       "   'ticklabeloverflow': 'hide past div',\n",
       "   'ticklabelposition': 'outside',\n",
       "   'ticklabelshift': 0,\n",
       "   'ticklabelstandoff': 0,\n",
       "   'ticklabelstep': 1,\n",
       "   'tickmode': 'auto',\n",
       "   'tickprefix': '',\n",
       "   'ticks': '',\n",
       "   'ticksuffix': '',\n",
       "   'title': {'font': {'color': '#2a3f5f',\n",
       "     'family': '\"Open Sans\", verdana, arial, sans-serif',\n",
       "     'lineposition': 'none',\n",
       "     'shadow': 'none',\n",
       "     'size': 14,\n",
       "     'style': 'normal',\n",
       "     'textcase': 'normal',\n",
       "     'variant': 'normal',\n",
       "     'weight': 'normal'},\n",
       "    'standoff': 15,\n",
       "    'text': 'x'},\n",
       "   'type': 'linear',\n",
       "   'visible': True,\n",
       "   'zeroline': True,\n",
       "   'zerolinecolor': 'white',\n",
       "   'zerolinewidth': 2},\n",
       "  'yaxis': {'anchor': 'x',\n",
       "   'automargin': True,\n",
       "   'autorange': True,\n",
       "   'autotypenumbers': 'strict',\n",
       "   'color': '#444',\n",
       "   'constrain': 'range',\n",
       "   'constraintoward': 'middle',\n",
       "   'domain': [0, 1],\n",
       "   'dtick': 0.5,\n",
       "   'exponentformat': 'B',\n",
       "   'fixedrange': False,\n",
       "   'gridcolor': 'white',\n",
       "   'griddash': 'solid',\n",
       "   'gridwidth': 1,\n",
       "   'hoverformat': '',\n",
       "   'layer': 'above traces',\n",
       "   'minexponent': 3,\n",
       "   'nticks': 0,\n",
       "   'range': [-1.1105687837673928, 1.1110825675667049],\n",
       "   'rangemode': 'normal',\n",
       "   'separatethousands': False,\n",
       "   'showexponent': 'all',\n",
       "   'showgrid': True,\n",
       "   'showline': False,\n",
       "   'showspikes': False,\n",
       "   'showticklabels': True,\n",
       "   'side': 'left',\n",
       "   'tick0': 0,\n",
       "   'tickangle': 'auto',\n",
       "   'tickfont': {'color': '#2a3f5f',\n",
       "    'family': '\"Open Sans\", verdana, arial, sans-serif',\n",
       "    'lineposition': 'none',\n",
       "    'shadow': 'none',\n",
       "    'size': 12,\n",
       "    'style': 'normal',\n",
       "    'textcase': 'normal',\n",
       "    'variant': 'normal',\n",
       "    'weight': 'normal'},\n",
       "   'tickformat': '',\n",
       "   'ticklabeloverflow': 'hide past div',\n",
       "   'ticklabelposition': 'outside',\n",
       "   'ticklabelshift': 0,\n",
       "   'ticklabelstandoff': 0,\n",
       "   'ticklabelstep': 1,\n",
       "   'tickmode': 'auto',\n",
       "   'tickprefix': '',\n",
       "   'ticks': '',\n",
       "   'ticksuffix': '',\n",
       "   'title': {'font': {'color': '#2a3f5f',\n",
       "     'family': '\"Open Sans\", verdana, arial, sans-serif',\n",
       "     'lineposition': 'none',\n",
       "     'shadow': 'none',\n",
       "     'size': 14,\n",
       "     'style': 'normal',\n",
       "     'textcase': 'normal',\n",
       "     'variant': 'normal',\n",
       "     'weight': 'normal'},\n",
       "    'standoff': 15,\n",
       "    'text': 'f(x)'},\n",
       "   'type': 'linear',\n",
       "   'visible': True,\n",
       "   'zeroline': True,\n",
       "   'zerolinecolor': 'white',\n",
       "   'zerolinewidth': 2},\n",
       "  'computed': {'margin': {'b': 80, 'l': 80, 'r': 100, 't': 100}}},\n",
       " 'frames': [],\n",
       " 'config': {'autosizable': False,\n",
       "  'displayModeBar': False,\n",
       "  'displaylogo': True,\n",
       "  'doubleClick': False,\n",
       "  'doubleClickDelay': 300,\n",
       "  'editSelection': True,\n",
       "  'editable': False,\n",
       "  'edits': {},\n",
       "  'fillFrame': False,\n",
       "  'frameMargins': 0,\n",
       "  'globalTransforms': [],\n",
       "  'linkText': 'Edit chart',\n",
       "  'locale': 'en-US',\n",
       "  'locales': {},\n",
       "  'logging': 1,\n",
       "  'mapboxAccessToken': None,\n",
       "  'modeBarButtons': False,\n",
       "  'modeBarButtonsToAdd': [],\n",
       "  'modeBarButtonsToRemove': [],\n",
       "  'notifyOnLogging': 0,\n",
       "  'plotGlPixelRatio': 2,\n",
       "  'plotlyServerURL': '',\n",
       "  'queueLength': 0,\n",
       "  'responsive': False,\n",
       "  'scrollZoom': False,\n",
       "  'sendData': True,\n",
       "  'setBackground': '_function',\n",
       "  'showAxisDragHandles': True,\n",
       "  'showAxisRangeEntryBoxes': True,\n",
       "  'showEditInChartStudio': False,\n",
       "  'showLink': False,\n",
       "  'showSendToCloud': False,\n",
       "  'showSources': False,\n",
       "  'showTips': False,\n",
       "  'staticPlot': True,\n",
       "  'toImageButtonOptions': {},\n",
       "  'topojsonURL': 'https://cdn.plot.ly/',\n",
       "  'typesetMath': True,\n",
       "  'watermark': False},\n",
       " 'version': '2.35.2'}"
      ]
     },
     "execution_count": 4,
     "metadata": {},
     "output_type": "execute_result"
    }
   ],
   "source": [
    "# To get all the figure properties, including the default values (those that you haven't set yourself).\n",
    "# This is useful to see the full list of things that you can change in a figure.\n",
    "fig.full_figure_for_development(as_dict=True)"
   ]
  },
  {
   "cell_type": "markdown",
   "metadata": {},
   "source": [
    "#### Display the result within the notebook"
   ]
  },
  {
   "cell_type": "code",
   "execution_count": 6,
   "metadata": {},
   "outputs": [
    {
     "data": {
      "application/vnd.plotly.v1+json": {
       "config": {
        "displaylogo": false,
        "plotlyServerURL": "https://plot.ly"
       },
       "data": [
        {
         "name": "sin(x)",
         "type": "scatter",
         "x": [
          0,
          0.1282282715750936,
          0.2564565431501872,
          0.38468481472528077,
          0.5129130863003744,
          0.6411413578754679,
          0.7693696294505615,
          0.8975979010256552,
          1.0258261726007487,
          1.1540544441758422,
          1.2822827157509358,
          1.4105109873260295,
          1.538739258901123,
          1.6669675304762166,
          1.7951958020513104,
          1.9234240736264039,
          2.0516523452014974,
          2.179880616776591,
          2.3081088883516845,
          2.436337159926778,
          2.5645654315018716,
          2.6927937030769655,
          2.821021974652059,
          2.9492502462271526,
          3.077478517802246,
          3.2057067893773397,
          3.333935060952433,
          3.4621633325275267,
          3.5903916041026207,
          3.7186198756777142,
          3.8468481472528078,
          3.9750764188279013,
          4.103304690402995,
          4.231532961978089,
          4.359761233553182,
          4.487989505128276,
          4.616217776703369,
          4.744446048278463,
          4.872674319853556,
          5.00090259142865,
          5.129130863003743,
          5.257359134578837,
          5.385587406153931,
          5.513815677729024,
          5.642043949304118,
          5.770272220879211,
          5.898500492454305,
          6.026728764029398,
          6.154957035604492,
          6.283185307179586
         ],
         "y": [
          0,
          0.127877161684506,
          0.25365458390950735,
          0.3752670048793741,
          0.49071755200393785,
          0.5981105304912159,
          0.6956825506034864,
          0.7818314824680298,
          0.8551427630053461,
          0.9144126230158124,
          0.9586678530366606,
          0.9871817834144501,
          0.9994862162006879,
          0.9953791129491982,
          0.9749279121818236,
          0.9384684220497604,
          0.8865993063730001,
          0.8201722545969561,
          0.7402779970753157,
          0.6482283953077888,
          0.545534901210549,
          0.43388373911755823,
          0.3151082180236209,
          0.19115862870137254,
          0.06407021998071323,
          -0.06407021998071255,
          -0.19115862870137187,
          -0.3151082180236202,
          -0.433883739117558,
          -0.5455349012105485,
          -0.6482283953077882,
          -0.7402779970753153,
          -0.8201722545969556,
          -0.886599306373,
          -0.9384684220497602,
          -0.9749279121818236,
          -0.9953791129491981,
          -0.9994862162006879,
          -0.9871817834144503,
          -0.9586678530366608,
          -0.9144126230158128,
          -0.8551427630053464,
          -0.7818314824680299,
          -0.6956825506034869,
          -0.5981105304912162,
          -0.49071755200393863,
          -0.3752670048793746,
          -0.25365458390950835,
          -0.12787716168450664,
          -2.4492935982947064e-16
         ]
        },
        {
         "name": "cos(x)",
         "type": "scatter",
         "x": [
          0,
          0.1282282715750936,
          0.2564565431501872,
          0.38468481472528077,
          0.5129130863003744,
          0.6411413578754679,
          0.7693696294505615,
          0.8975979010256552,
          1.0258261726007487,
          1.1540544441758422,
          1.2822827157509358,
          1.4105109873260295,
          1.538739258901123,
          1.6669675304762166,
          1.7951958020513104,
          1.9234240736264039,
          2.0516523452014974,
          2.179880616776591,
          2.3081088883516845,
          2.436337159926778,
          2.5645654315018716,
          2.6927937030769655,
          2.821021974652059,
          2.9492502462271526,
          3.077478517802246,
          3.2057067893773397,
          3.333935060952433,
          3.4621633325275267,
          3.5903916041026207,
          3.7186198756777142,
          3.8468481472528078,
          3.9750764188279013,
          4.103304690402995,
          4.231532961978089,
          4.359761233553182,
          4.487989505128276,
          4.616217776703369,
          4.744446048278463,
          4.872674319853556,
          5.00090259142865,
          5.129130863003743,
          5.257359134578837,
          5.385587406153931,
          5.513815677729024,
          5.642043949304118,
          5.770272220879211,
          5.898500492454305,
          6.026728764029398,
          6.154957035604492,
          6.283185307179586
         ],
         "y": [
          1,
          0.9917900138232462,
          0.9672948630390295,
          0.9269167573460217,
          0.8713187041233894,
          0.8014136218679567,
          0.7183493500977276,
          0.6234898018587336,
          0.5183925683105252,
          0.404783343122394,
          0.28452758663103267,
          0.15959989503337932,
          0.03205157757165533,
          -0.09602302590768154,
          -0.22252093395631434,
          -0.3453650544213075,
          -0.4625382902408351,
          -0.5721166601221694,
          -0.6723008902613166,
          -0.7614459583691342,
          -0.8380881048918404,
          -0.900968867902419,
          -0.9490557470106686,
          -0.9815591569910653,
          -0.9979453927503363,
          -0.9979453927503363,
          -0.9815591569910654,
          -0.9490557470106689,
          -0.9009688679024191,
          -0.8380881048918408,
          -0.7614459583691346,
          -0.672300890261317,
          -0.57211666012217,
          -0.4625382902408353,
          -0.34536505442130816,
          -0.2225209339563146,
          -0.09602302590768244,
          0.03205157757165486,
          0.1595998950333784,
          0.284527586631032,
          0.40478334312239295,
          0.5183925683105245,
          0.6234898018587334,
          0.718349350097727,
          0.8014136218679565,
          0.871318704123389,
          0.9269167573460216,
          0.9672948630390291,
          0.991790013823246,
          1
         ]
        }
       ],
       "layout": {
        "template": {
         "data": {
          "bar": [
           {
            "error_x": {
             "color": "#2a3f5f"
            },
            "error_y": {
             "color": "#2a3f5f"
            },
            "marker": {
             "line": {
              "color": "#E5ECF6",
              "width": 0.5
             },
             "pattern": {
              "fillmode": "overlay",
              "size": 10,
              "solidity": 0.2
             }
            },
            "type": "bar"
           }
          ],
          "barpolar": [
           {
            "marker": {
             "line": {
              "color": "#E5ECF6",
              "width": 0.5
             },
             "pattern": {
              "fillmode": "overlay",
              "size": 10,
              "solidity": 0.2
             }
            },
            "type": "barpolar"
           }
          ],
          "carpet": [
           {
            "aaxis": {
             "endlinecolor": "#2a3f5f",
             "gridcolor": "white",
             "linecolor": "white",
             "minorgridcolor": "white",
             "startlinecolor": "#2a3f5f"
            },
            "baxis": {
             "endlinecolor": "#2a3f5f",
             "gridcolor": "white",
             "linecolor": "white",
             "minorgridcolor": "white",
             "startlinecolor": "#2a3f5f"
            },
            "type": "carpet"
           }
          ],
          "choropleth": [
           {
            "colorbar": {
             "outlinewidth": 0,
             "ticks": ""
            },
            "type": "choropleth"
           }
          ],
          "contour": [
           {
            "colorbar": {
             "outlinewidth": 0,
             "ticks": ""
            },
            "colorscale": [
             [
              0,
              "#0d0887"
             ],
             [
              0.1111111111111111,
              "#46039f"
             ],
             [
              0.2222222222222222,
              "#7201a8"
             ],
             [
              0.3333333333333333,
              "#9c179e"
             ],
             [
              0.4444444444444444,
              "#bd3786"
             ],
             [
              0.5555555555555556,
              "#d8576b"
             ],
             [
              0.6666666666666666,
              "#ed7953"
             ],
             [
              0.7777777777777778,
              "#fb9f3a"
             ],
             [
              0.8888888888888888,
              "#fdca26"
             ],
             [
              1,
              "#f0f921"
             ]
            ],
            "type": "contour"
           }
          ],
          "contourcarpet": [
           {
            "colorbar": {
             "outlinewidth": 0,
             "ticks": ""
            },
            "type": "contourcarpet"
           }
          ],
          "heatmap": [
           {
            "colorbar": {
             "outlinewidth": 0,
             "ticks": ""
            },
            "colorscale": [
             [
              0,
              "#0d0887"
             ],
             [
              0.1111111111111111,
              "#46039f"
             ],
             [
              0.2222222222222222,
              "#7201a8"
             ],
             [
              0.3333333333333333,
              "#9c179e"
             ],
             [
              0.4444444444444444,
              "#bd3786"
             ],
             [
              0.5555555555555556,
              "#d8576b"
             ],
             [
              0.6666666666666666,
              "#ed7953"
             ],
             [
              0.7777777777777778,
              "#fb9f3a"
             ],
             [
              0.8888888888888888,
              "#fdca26"
             ],
             [
              1,
              "#f0f921"
             ]
            ],
            "type": "heatmap"
           }
          ],
          "heatmapgl": [
           {
            "colorbar": {
             "outlinewidth": 0,
             "ticks": ""
            },
            "colorscale": [
             [
              0,
              "#0d0887"
             ],
             [
              0.1111111111111111,
              "#46039f"
             ],
             [
              0.2222222222222222,
              "#7201a8"
             ],
             [
              0.3333333333333333,
              "#9c179e"
             ],
             [
              0.4444444444444444,
              "#bd3786"
             ],
             [
              0.5555555555555556,
              "#d8576b"
             ],
             [
              0.6666666666666666,
              "#ed7953"
             ],
             [
              0.7777777777777778,
              "#fb9f3a"
             ],
             [
              0.8888888888888888,
              "#fdca26"
             ],
             [
              1,
              "#f0f921"
             ]
            ],
            "type": "heatmapgl"
           }
          ],
          "histogram": [
           {
            "marker": {
             "pattern": {
              "fillmode": "overlay",
              "size": 10,
              "solidity": 0.2
             }
            },
            "type": "histogram"
           }
          ],
          "histogram2d": [
           {
            "colorbar": {
             "outlinewidth": 0,
             "ticks": ""
            },
            "colorscale": [
             [
              0,
              "#0d0887"
             ],
             [
              0.1111111111111111,
              "#46039f"
             ],
             [
              0.2222222222222222,
              "#7201a8"
             ],
             [
              0.3333333333333333,
              "#9c179e"
             ],
             [
              0.4444444444444444,
              "#bd3786"
             ],
             [
              0.5555555555555556,
              "#d8576b"
             ],
             [
              0.6666666666666666,
              "#ed7953"
             ],
             [
              0.7777777777777778,
              "#fb9f3a"
             ],
             [
              0.8888888888888888,
              "#fdca26"
             ],
             [
              1,
              "#f0f921"
             ]
            ],
            "type": "histogram2d"
           }
          ],
          "histogram2dcontour": [
           {
            "colorbar": {
             "outlinewidth": 0,
             "ticks": ""
            },
            "colorscale": [
             [
              0,
              "#0d0887"
             ],
             [
              0.1111111111111111,
              "#46039f"
             ],
             [
              0.2222222222222222,
              "#7201a8"
             ],
             [
              0.3333333333333333,
              "#9c179e"
             ],
             [
              0.4444444444444444,
              "#bd3786"
             ],
             [
              0.5555555555555556,
              "#d8576b"
             ],
             [
              0.6666666666666666,
              "#ed7953"
             ],
             [
              0.7777777777777778,
              "#fb9f3a"
             ],
             [
              0.8888888888888888,
              "#fdca26"
             ],
             [
              1,
              "#f0f921"
             ]
            ],
            "type": "histogram2dcontour"
           }
          ],
          "mesh3d": [
           {
            "colorbar": {
             "outlinewidth": 0,
             "ticks": ""
            },
            "type": "mesh3d"
           }
          ],
          "parcoords": [
           {
            "line": {
             "colorbar": {
              "outlinewidth": 0,
              "ticks": ""
             }
            },
            "type": "parcoords"
           }
          ],
          "pie": [
           {
            "automargin": true,
            "type": "pie"
           }
          ],
          "scatter": [
           {
            "fillpattern": {
             "fillmode": "overlay",
             "size": 10,
             "solidity": 0.2
            },
            "type": "scatter"
           }
          ],
          "scatter3d": [
           {
            "line": {
             "colorbar": {
              "outlinewidth": 0,
              "ticks": ""
             }
            },
            "marker": {
             "colorbar": {
              "outlinewidth": 0,
              "ticks": ""
             }
            },
            "type": "scatter3d"
           }
          ],
          "scattercarpet": [
           {
            "marker": {
             "colorbar": {
              "outlinewidth": 0,
              "ticks": ""
             }
            },
            "type": "scattercarpet"
           }
          ],
          "scattergeo": [
           {
            "marker": {
             "colorbar": {
              "outlinewidth": 0,
              "ticks": ""
             }
            },
            "type": "scattergeo"
           }
          ],
          "scattergl": [
           {
            "marker": {
             "colorbar": {
              "outlinewidth": 0,
              "ticks": ""
             }
            },
            "type": "scattergl"
           }
          ],
          "scattermapbox": [
           {
            "marker": {
             "colorbar": {
              "outlinewidth": 0,
              "ticks": ""
             }
            },
            "type": "scattermapbox"
           }
          ],
          "scatterpolar": [
           {
            "marker": {
             "colorbar": {
              "outlinewidth": 0,
              "ticks": ""
             }
            },
            "type": "scatterpolar"
           }
          ],
          "scatterpolargl": [
           {
            "marker": {
             "colorbar": {
              "outlinewidth": 0,
              "ticks": ""
             }
            },
            "type": "scatterpolargl"
           }
          ],
          "scatterternary": [
           {
            "marker": {
             "colorbar": {
              "outlinewidth": 0,
              "ticks": ""
             }
            },
            "type": "scatterternary"
           }
          ],
          "surface": [
           {
            "colorbar": {
             "outlinewidth": 0,
             "ticks": ""
            },
            "colorscale": [
             [
              0,
              "#0d0887"
             ],
             [
              0.1111111111111111,
              "#46039f"
             ],
             [
              0.2222222222222222,
              "#7201a8"
             ],
             [
              0.3333333333333333,
              "#9c179e"
             ],
             [
              0.4444444444444444,
              "#bd3786"
             ],
             [
              0.5555555555555556,
              "#d8576b"
             ],
             [
              0.6666666666666666,
              "#ed7953"
             ],
             [
              0.7777777777777778,
              "#fb9f3a"
             ],
             [
              0.8888888888888888,
              "#fdca26"
             ],
             [
              1,
              "#f0f921"
             ]
            ],
            "type": "surface"
           }
          ],
          "table": [
           {
            "cells": {
             "fill": {
              "color": "#EBF0F8"
             },
             "line": {
              "color": "white"
             }
            },
            "header": {
             "fill": {
              "color": "#C8D4E3"
             },
             "line": {
              "color": "white"
             }
            },
            "type": "table"
           }
          ]
         },
         "layout": {
          "annotationdefaults": {
           "arrowcolor": "#2a3f5f",
           "arrowhead": 0,
           "arrowwidth": 1
          },
          "autotypenumbers": "strict",
          "coloraxis": {
           "colorbar": {
            "outlinewidth": 0,
            "ticks": ""
           }
          },
          "colorscale": {
           "diverging": [
            [
             0,
             "#8e0152"
            ],
            [
             0.1,
             "#c51b7d"
            ],
            [
             0.2,
             "#de77ae"
            ],
            [
             0.3,
             "#f1b6da"
            ],
            [
             0.4,
             "#fde0ef"
            ],
            [
             0.5,
             "#f7f7f7"
            ],
            [
             0.6,
             "#e6f5d0"
            ],
            [
             0.7,
             "#b8e186"
            ],
            [
             0.8,
             "#7fbc41"
            ],
            [
             0.9,
             "#4d9221"
            ],
            [
             1,
             "#276419"
            ]
           ],
           "sequential": [
            [
             0,
             "#0d0887"
            ],
            [
             0.1111111111111111,
             "#46039f"
            ],
            [
             0.2222222222222222,
             "#7201a8"
            ],
            [
             0.3333333333333333,
             "#9c179e"
            ],
            [
             0.4444444444444444,
             "#bd3786"
            ],
            [
             0.5555555555555556,
             "#d8576b"
            ],
            [
             0.6666666666666666,
             "#ed7953"
            ],
            [
             0.7777777777777778,
             "#fb9f3a"
            ],
            [
             0.8888888888888888,
             "#fdca26"
            ],
            [
             1,
             "#f0f921"
            ]
           ],
           "sequentialminus": [
            [
             0,
             "#0d0887"
            ],
            [
             0.1111111111111111,
             "#46039f"
            ],
            [
             0.2222222222222222,
             "#7201a8"
            ],
            [
             0.3333333333333333,
             "#9c179e"
            ],
            [
             0.4444444444444444,
             "#bd3786"
            ],
            [
             0.5555555555555556,
             "#d8576b"
            ],
            [
             0.6666666666666666,
             "#ed7953"
            ],
            [
             0.7777777777777778,
             "#fb9f3a"
            ],
            [
             0.8888888888888888,
             "#fdca26"
            ],
            [
             1,
             "#f0f921"
            ]
           ]
          },
          "colorway": [
           "#636efa",
           "#EF553B",
           "#00cc96",
           "#ab63fa",
           "#FFA15A",
           "#19d3f3",
           "#FF6692",
           "#B6E880",
           "#FF97FF",
           "#FECB52"
          ],
          "font": {
           "color": "#2a3f5f"
          },
          "geo": {
           "bgcolor": "white",
           "lakecolor": "white",
           "landcolor": "#E5ECF6",
           "showlakes": true,
           "showland": true,
           "subunitcolor": "white"
          },
          "hoverlabel": {
           "align": "left"
          },
          "hovermode": "closest",
          "mapbox": {
           "style": "light"
          },
          "paper_bgcolor": "white",
          "plot_bgcolor": "#E5ECF6",
          "polar": {
           "angularaxis": {
            "gridcolor": "white",
            "linecolor": "white",
            "ticks": ""
           },
           "bgcolor": "#E5ECF6",
           "radialaxis": {
            "gridcolor": "white",
            "linecolor": "white",
            "ticks": ""
           }
          },
          "scene": {
           "xaxis": {
            "backgroundcolor": "#E5ECF6",
            "gridcolor": "white",
            "gridwidth": 2,
            "linecolor": "white",
            "showbackground": true,
            "ticks": "",
            "zerolinecolor": "white"
           },
           "yaxis": {
            "backgroundcolor": "#E5ECF6",
            "gridcolor": "white",
            "gridwidth": 2,
            "linecolor": "white",
            "showbackground": true,
            "ticks": "",
            "zerolinecolor": "white"
           },
           "zaxis": {
            "backgroundcolor": "#E5ECF6",
            "gridcolor": "white",
            "gridwidth": 2,
            "linecolor": "white",
            "showbackground": true,
            "ticks": "",
            "zerolinecolor": "white"
           }
          },
          "shapedefaults": {
           "line": {
            "color": "#2a3f5f"
           }
          },
          "ternary": {
           "aaxis": {
            "gridcolor": "white",
            "linecolor": "white",
            "ticks": ""
           },
           "baxis": {
            "gridcolor": "white",
            "linecolor": "white",
            "ticks": ""
           },
           "bgcolor": "#E5ECF6",
           "caxis": {
            "gridcolor": "white",
            "linecolor": "white",
            "ticks": ""
           }
          },
          "title": {
           "x": 0.05
          },
          "xaxis": {
           "automargin": true,
           "gridcolor": "white",
           "linecolor": "white",
           "ticks": "",
           "title": {
            "standoff": 15
           },
           "zerolinecolor": "white",
           "zerolinewidth": 2
          },
          "yaxis": {
           "automargin": true,
           "gridcolor": "white",
           "linecolor": "white",
           "ticks": "",
           "title": {
            "standoff": 15
           },
           "zerolinecolor": "white",
           "zerolinewidth": 2
          }
         }
        },
        "title": {
         "text": "SIN and COS functions"
        },
        "xaxis": {
         "title": {
          "text": "x"
         }
        },
        "yaxis": {
         "title": {
          "text": "f(x)"
         }
        }
       }
      }
     },
     "metadata": {},
     "output_type": "display_data"
    }
   ],
   "source": [
    "# The .show method accepts a config parameter\n",
    "fig.show(config=dict(displaylogo=False))"
   ]
  },
  {
   "cell_type": "code",
   "execution_count": 5,
   "metadata": {},
   "outputs": [
    {
     "data": {
      "image/png": "[encoded data removed]"
     },
     "metadata": {},
     "output_type": "display_data"
    }
   ],
   "source": [
    "# The figure can be shown also as a static image\n",
    "fig.show(renderer='png')"
   ]
  },
  {
   "cell_type": "markdown",
   "metadata": {},
   "source": [
    "#### Create a stand-alone html file "
   ]
  },
  {
   "cell_type": "code",
   "execution_count": 6,
   "metadata": {},
   "outputs": [],
   "source": [
    "# This includes by default all necessary code (including Plotly.js) to render the plot\n",
    "fig.write_html(\n",
    "    file='sin_cos.html', \n",
    "    include_plotlyjs='cdn',\n",
    "    config=dict(displaylogo=False),\n",
    ")"
   ]
  },
  {
   "cell_type": "markdown",
   "metadata": {},
   "source": [
    "#### Create just a `<div>` element with the plot to embed in your web page"
   ]
  },
  {
   "cell_type": "code",
   "execution_count": 7,
   "metadata": {},
   "outputs": [],
   "source": [
    "fig.write_html(\n",
    "    file='mydiv.html', \n",
    "    include_plotlyjs=False,\n",
    "    config=dict(displaylogo=False),\n",
    "    full_html=False,\n",
    ")"
   ]
  },
  {
   "cell_type": "code",
   "execution_count": 8,
   "metadata": {},
   "outputs": [],
   "source": [
    "# Then you can use the resulting string in your own HTML code:\n",
    "with open('mydiv.html', 'r') as f:\n",
    "    div_str = f.read()\n",
    "\n",
    "html_str = f'''\n",
    "<!DOCTYPE html>\n",
    "<html>\n",
    "\n",
    "  <head>\n",
    "    <script src='https://cdn.plot.ly/plotly-latest.min.js'></script>\n",
    "  </head>\n",
    "\n",
    "  <body>\n",
    "    <h1>Simple Dashboard</h1>\n",
    "    <p>The following plot is static and interactive at the same time ;)</p>\n",
    "\n",
    "    {div_str}\n",
    "\n",
    "  </body>\n",
    "\n",
    "</html>\n",
    "'''\n",
    "\n",
    "\n",
    "# The final string can be saved in a file\n",
    "with open('simple_dashboard.html', 'w') as f:\n",
    "    f.write(html_str)"
   ]
  },
  {
   "cell_type": "markdown",
   "metadata": {},
   "source": [
    "#### Export it as static image (done by [`kaleido`](https://github.com/plotly/Kaleido) under the hood)"
   ]
  },
  {
   "cell_type": "markdown",
   "metadata": {},
   "source": [
    "Although it is possible to download a static image manually by pressing the camera icon on any Plotly plot, you can do that also programatically with:"
   ]
  },
  {
   "cell_type": "code",
   "execution_count": null,
   "metadata": {},
   "outputs": [],
   "source": [
    "fig.write_image(file='sin_cos.png', width=700, height=500)"
   ]
  },
  {
   "cell_type": "markdown",
   "metadata": {},
   "source": [
    "#### Share it via the Plotly cloud (Chart Studio)"
   ]
  },
  {
   "cell_type": "markdown",
   "metadata": {},
   "source": [
    "Chart Studio is another pip installable Plotly library (`pip install chart_studio`) that allows you to generate plots and use the Plotly cloud platform to host and share them. This requires a Plotly (free) account. The hosting is also for free as long as you keep your plots public.\n",
    "\n",
    "See [Getting Started with Chart Studio in Python](https://plot.ly/python/getting-started-with-chart-studio/)."
   ]
  },
  {
   "cell_type": "markdown",
   "metadata": {},
   "source": [
    "## Exercise"
   ]
  },
  {
   "cell_type": "markdown",
   "metadata": {},
   "source": [
    "Take any of the Plotly figures built so far (or any one of your choice), embed it in your custom HTML document and host it in [GitHub pages](https://pages.github.com/) following the steps defined in the [slides](https://slides.com/chumo/plotly/#/11/1)."
   ]
  },
  {
   "cell_type": "code",
   "execution_count": null,
   "metadata": {},
   "outputs": [],
   "source": []
  }
 ],
 "metadata": {
  "kernelspec": {
   "display_name": "DS_fund",
   "language": "python",
   "name": "python3"
  },
  "language_info": {
   "codemirror_mode": {
    "name": "ipython",
    "version": 3
   },
   "file_extension": ".py",
   "mimetype": "text/x-python",
   "name": "python",
   "nbconvert_exporter": "python",
   "pygments_lexer": "ipython3",
   "version": "3.12.8"
  }
 },
 "nbformat": 4,
 "nbformat_minor": 4
}
